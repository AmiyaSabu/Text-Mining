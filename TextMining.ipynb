{
 "cells": [
  {
   "cell_type": "code",
   "execution_count": 1,
   "metadata": {
    "colab": {
     "base_uri": "https://localhost:8080/"
    },
    "executionInfo": {
     "elapsed": 216,
     "status": "ok",
     "timestamp": 1670361452783,
     "user": {
      "displayName": "Amiya Sabu",
      "userId": "12289167282087850170"
     },
     "user_tz": 0
    },
    "id": "Km9uO9SiHySz",
    "outputId": "3bbdd60c-bfe0-46fb-bc06-2e63d0e15cf8"
   },
   "outputs": [
    {
     "ename": "ModuleNotFoundError",
     "evalue": "No module named 'wordcloud'",
     "output_type": "error",
     "traceback": [
      "\u001b[1;31m---------------------------------------------------------------------------\u001b[0m",
      "\u001b[1;31mModuleNotFoundError\u001b[0m                       Traceback (most recent call last)",
      "Input \u001b[1;32mIn [1]\u001b[0m, in \u001b[0;36m<cell line: 6>\u001b[1;34m()\u001b[0m\n\u001b[0;32m      4\u001b[0m \u001b[38;5;28;01mimport\u001b[39;00m \u001b[38;5;21;01mre\u001b[39;00m\n\u001b[0;32m      5\u001b[0m \u001b[38;5;28;01mimport\u001b[39;00m \u001b[38;5;21;01mseaborn\u001b[39;00m \u001b[38;5;28;01mas\u001b[39;00m \u001b[38;5;21;01msns\u001b[39;00m\n\u001b[1;32m----> 6\u001b[0m \u001b[38;5;28;01mfrom\u001b[39;00m \u001b[38;5;21;01mwordcloud\u001b[39;00m \u001b[38;5;28;01mimport\u001b[39;00m WordCloud\n\u001b[0;32m      7\u001b[0m \u001b[38;5;28;01mimport\u001b[39;00m \u001b[38;5;21;01mnltk\u001b[39;00m\n\u001b[0;32m      8\u001b[0m nltk\u001b[38;5;241m.\u001b[39mdownload([\u001b[38;5;124m'\u001b[39m\u001b[38;5;124mstopwords\u001b[39m\u001b[38;5;124m'\u001b[39m,\n\u001b[0;32m      9\u001b[0m                \u001b[38;5;124m'\u001b[39m\u001b[38;5;124mpunkt\u001b[39m\u001b[38;5;124m'\u001b[39m,\n\u001b[0;32m     10\u001b[0m                \u001b[38;5;124m'\u001b[39m\u001b[38;5;124mwordnet\u001b[39m\u001b[38;5;124m'\u001b[39m,\n\u001b[0;32m     11\u001b[0m                \u001b[38;5;124m'\u001b[39m\u001b[38;5;124momw-1.4\u001b[39m\u001b[38;5;124m'\u001b[39m,\n\u001b[0;32m     12\u001b[0m                \u001b[38;5;124m'\u001b[39m\u001b[38;5;124mvader_lexicon\u001b[39m\u001b[38;5;124m'\u001b[39m\n\u001b[0;32m     13\u001b[0m                ])\n",
      "\u001b[1;31mModuleNotFoundError\u001b[0m: No module named 'wordcloud'"
     ]
    }
   ],
   "source": [
    "import numpy as np\n",
    "import pandas as pd\n",
    "import matplotlib.pyplot as plt\n",
    "import re\n",
    "import seaborn as sns\n",
    "from wordcloud import WordCloud\n",
    "import nltk\n",
    "nltk.download(['stopwords',\n",
    "               'punkt',\n",
    "               'wordnet',\n",
    "               'omw-1.4',\n",
    "               'vader_lexicon'\n",
    "               ])\n",
    "%matplotlib inline"
   ]
  },
  {
   "cell_type": "code",
   "execution_count": null,
   "metadata": {
    "colab": {
     "base_uri": "https://localhost:8080/",
     "height": 206
    },
    "executionInfo": {
     "elapsed": 261,
     "status": "ok",
     "timestamp": 1670361453265,
     "user": {
      "displayName": "Amiya Sabu",
      "userId": "12289167282087850170"
     },
     "user_tz": 0
    },
    "id": "csSIM1wZmQM8",
    "outputId": "8f6ff0ed-7be4-479a-ad09-523453d2c29e"
   },
   "outputs": [],
   "source": [
    "tourist_accommodation_reviews = pd.read_csv('tourist_accommodation_reviews.csv')\n",
    "tourist_accommodation_reviews.head()"
   ]
  },
  {
   "cell_type": "code",
   "execution_count": null,
   "metadata": {
    "executionInfo": {
     "elapsed": 13,
     "status": "ok",
     "timestamp": 1670361453266,
     "user": {
      "displayName": "Amiya Sabu",
      "userId": "12289167282087850170"
     },
     "user_tz": 0
    },
    "id": "anGnPUjMGqBe"
   },
   "outputs": [],
   "source": [
    "tokenizer = nltk.tokenize.RegexpTokenizer('[a-zA-Z0-9\\']+')"
   ]
  },
  {
   "cell_type": "code",
   "execution_count": null,
   "metadata": {
    "colab": {
     "base_uri": "https://localhost:8080/"
    },
    "executionInfo": {
     "elapsed": 12,
     "status": "ok",
     "timestamp": 1670361453266,
     "user": {
      "displayName": "Amiya Sabu",
      "userId": "12289167282087850170"
     },
     "user_tz": 0
    },
    "id": "j5NdPY7iHCIq",
    "outputId": "d5f5cde5-ede0-436c-a425-ea7902979ebe"
   },
   "outputs": [],
   "source": [
    "stop_words = nltk.corpus.stopwords.words('english')\n",
    "print(stop_words)"
   ]
  },
  {
   "cell_type": "code",
   "execution_count": null,
   "metadata": {
    "colab": {
     "base_uri": "https://localhost:8080/"
    },
    "executionInfo": {
     "elapsed": 9,
     "status": "ok",
     "timestamp": 1670361453266,
     "user": {
      "displayName": "Amiya Sabu",
      "userId": "12289167282087850170"
     },
     "user_tz": 0
    },
    "id": "iH6XLfDUHxYa",
    "outputId": "589a7719-c432-49d8-c78e-ac4f679bd24b"
   },
   "outputs": [],
   "source": [
    "lemmatizer=nltk.stem.WordNetLemmatizer()\n",
    "stemmer=nltk.stem.PorterStemmer()\n",
    "words=['cacti','sings','hopped','rocks','better','easily']\n",
    "pos=['n','v','v','n','a','r']\n",
    "lemmatized_words=[lemmatizer.lemmatize(words[i], pos=pos[i]) for i in range(6)]\n",
    "stemmed_words=[stemmer.stem(word) for word in words]\n",
    "\n",
    "print(\"Lemmatized words:\", lemmatized_words)\n",
    "print(\"Stemmed words:\", stemmed_words)"
   ]
  },
  {
   "cell_type": "code",
   "execution_count": null,
   "metadata": {
    "executionInfo": {
     "elapsed": 7,
     "status": "ok",
     "timestamp": 1670361453267,
     "user": {
      "displayName": "Amiya Sabu",
      "userId": "12289167282087850170"
     },
     "user_tz": 0
    },
    "id": "EhmA43WSFeuA"
   },
   "outputs": [],
   "source": [
    "def preprocess_text(text):\n",
    "  tokenized_document = nltk.tokenize.RegexpTokenizer('[a-zA-Z0-9\\']+').tokenize(text)\n",
    "  cleaned_tokens = [word.lower() for word in tokenized_document if word.lower() not in stop_words]\n",
    "  stemmed_text = [nltk.stem.PorterStemmer().stem(word) for word in cleaned_tokens]\n",
    "  return stemmed_text"
   ]
  },
  {
   "cell_type": "code",
   "execution_count": null,
   "metadata": {
    "colab": {
     "base_uri": "https://localhost:8080/",
     "height": 206
    },
    "executionInfo": {
     "elapsed": 1968,
     "status": "ok",
     "timestamp": 1670361455229,
     "user": {
      "displayName": "Amiya Sabu",
      "userId": "12289167282087850170"
     },
     "user_tz": 0
    },
    "id": "XxZ0vM1PfIG5",
    "outputId": "4ff9b45d-6d66-4747-db98-aeeeb3f14535"
   },
   "outputs": [],
   "source": [
    "tourist_accommodation_reviews['Review_Text']=tourist_accommodation_reviews['Review'].apply(preprocess_text)\n",
    "tourist_accommodation_reviews.head()"
   ]
  },
  {
   "cell_type": "code",
   "execution_count": null,
   "metadata": {
    "colab": {
     "base_uri": "https://localhost:8080/",
     "height": 235
    },
    "executionInfo": {
     "elapsed": 966,
     "status": "ok",
     "timestamp": 1670361456187,
     "user": {
      "displayName": "Amiya Sabu",
      "userId": "12289167282087850170"
     },
     "user_tz": 0
    },
    "id": "7JcFuK7ohbWn",
    "outputId": "128e15b1-1212-449e-81b3-929e77bb7313"
   },
   "outputs": [],
   "source": [
    "from numpy.lib.function_base import vectorize\n",
    "from sklearn.feature_extraction.text import CountVectorizer\n",
    "vectorizer = CountVectorizer()\n",
    "x=vectorizer.fit_transform(tourist_accommodation_reviews['Review_Text'].map(' '.join))\n",
    "x=pd.DataFrame(x.toarray(),columns=vectorizer.get_feature_names_out())\n",
    "x.head()"
   ]
  },
  {
   "cell_type": "code",
   "execution_count": null,
   "metadata": {
    "executionInfo": {
     "elapsed": 3,
     "status": "ok",
     "timestamp": 1670361456187,
     "user": {
      "displayName": "Amiya Sabu",
      "userId": "12289167282087850170"
     },
     "user_tz": 0
    },
    "id": "k0ZKPbUANbmr"
   },
   "outputs": [],
   "source": [
    "from nltk.sentiment.vader import SentimentIntensityAnalyzer\n",
    "sentiment = SentimentIntensityAnalyzer()"
   ]
  },
  {
   "cell_type": "code",
   "execution_count": null,
   "metadata": {
    "colab": {
     "base_uri": "https://localhost:8080/",
     "height": 175
    },
    "executionInfo": {
     "elapsed": 331,
     "status": "ok",
     "timestamp": 1670361456515,
     "user": {
      "displayName": "Amiya Sabu",
      "userId": "12289167282087850170"
     },
     "user_tz": 0
    },
    "id": "yze_qf8enL9l",
    "outputId": "32d5e55f-78e8-4cbb-98f7-590b3b4dfc64"
   },
   "outputs": [],
   "source": [
    "tourist_accommodation_reviews.describe()"
   ]
  },
  {
   "cell_type": "code",
   "execution_count": null,
   "metadata": {
    "executionInfo": {
     "elapsed": 5077,
     "status": "ok",
     "timestamp": 1670361461585,
     "user": {
      "displayName": "Amiya Sabu",
      "userId": "12289167282087850170"
     },
     "user_tz": 0
    },
    "id": "Y09-fGUKnyU9"
   },
   "outputs": [],
   "source": [
    "tourist_accommodation_reviews['compound'] = [sentiment.polarity_scores(review)['compound'] for review in tourist_accommodation_reviews['Review']]\n",
    "tourist_accommodation_reviews['neg'] = [sentiment.polarity_scores(review)['neg'] for review in tourist_accommodation_reviews['Review']]\n",
    "tourist_accommodation_reviews['neu'] = [sentiment.polarity_scores(review)['neu'] for review in tourist_accommodation_reviews['Review']]\n",
    "tourist_accommodation_reviews['pos'] = [sentiment.polarity_scores(review)['pos'] for review in tourist_accommodation_reviews['Review']]"
   ]
  },
  {
   "cell_type": "code",
   "execution_count": null,
   "metadata": {
    "colab": {
     "base_uri": "https://localhost:8080/",
     "height": 206
    },
    "executionInfo": {
     "elapsed": 32,
     "status": "ok",
     "timestamp": 1670361461595,
     "user": {
      "displayName": "Amiya Sabu",
      "userId": "12289167282087850170"
     },
     "user_tz": 0
    },
    "id": "KHZZA7BEsJiu",
    "outputId": "98b0df6a-5c2b-4827-e643-06eb7cbe24ee"
   },
   "outputs": [],
   "source": [
    "tourist_accommodation_reviews.head()"
   ]
  },
  {
   "cell_type": "code",
   "execution_count": null,
   "metadata": {
    "colab": {
     "base_uri": "https://localhost:8080/",
     "height": 300
    },
    "executionInfo": {
     "elapsed": 30,
     "status": "ok",
     "timestamp": 1670361461595,
     "user": {
      "displayName": "Amiya Sabu",
      "userId": "12289167282087850170"
     },
     "user_tz": 0
    },
    "id": "1I4In_9Osf6Q",
    "outputId": "e88632ea-9a96-4abd-ddbd-c00381cc9945"
   },
   "outputs": [],
   "source": [
    "tourist_accommodation_reviews[['compound','neg','neu','pos']].describe()"
   ]
  },
  {
   "cell_type": "code",
   "execution_count": null,
   "metadata": {
    "colab": {
     "base_uri": "https://localhost:8080/",
     "height": 297
    },
    "executionInfo": {
     "elapsed": 401,
     "status": "ok",
     "timestamp": 1670361461968,
     "user": {
      "displayName": "Amiya Sabu",
      "userId": "12289167282087850170"
     },
     "user_tz": 0
    },
    "id": "WJb1xmPgs0LR",
    "outputId": "07de0e08-5028-4a5c-9f87-2bdaf0b86c4d"
   },
   "outputs": [],
   "source": [
    "sns.histplot(tourist_accommodation_reviews['compound'])"
   ]
  },
  {
   "cell_type": "code",
   "execution_count": null,
   "metadata": {
    "colab": {
     "base_uri": "https://localhost:8080/",
     "height": 297
    },
    "executionInfo": {
     "elapsed": 834,
     "status": "ok",
     "timestamp": 1670361462793,
     "user": {
      "displayName": "Amiya Sabu",
      "userId": "12289167282087850170"
     },
     "user_tz": 0
    },
    "id": "oGuCEgoCtCpc",
    "outputId": "92491bb6-2577-4bb7-8aec-c824ce689a1b"
   },
   "outputs": [],
   "source": [
    "sns.histplot(tourist_accommodation_reviews['pos'])"
   ]
  },
  {
   "cell_type": "code",
   "execution_count": null,
   "metadata": {
    "colab": {
     "base_uri": "https://localhost:8080/",
     "height": 297
    },
    "executionInfo": {
     "elapsed": 533,
     "status": "ok",
     "timestamp": 1670361463315,
     "user": {
      "displayName": "Amiya Sabu",
      "userId": "12289167282087850170"
     },
     "user_tz": 0
    },
    "id": "Du8d0UNetPY3",
    "outputId": "bd09698b-00cc-47b6-9003-c5bca58d9475"
   },
   "outputs": [],
   "source": [
    "sns.histplot(tourist_accommodation_reviews['neg'])"
   ]
  },
  {
   "cell_type": "code",
   "execution_count": null,
   "metadata": {
    "colab": {
     "base_uri": "https://localhost:8080/"
    },
    "executionInfo": {
     "elapsed": 30,
     "status": "ok",
     "timestamp": 1670361463316,
     "user": {
      "displayName": "Amiya Sabu",
      "userId": "12289167282087850170"
     },
     "user_tz": 0
    },
    "id": "0ZYoMHLGtYfP",
    "outputId": "c7c34cf0-f3b6-4926-8a3d-904bc917f77b"
   },
   "outputs": [],
   "source": [
    "(tourist_accommodation_reviews['compound']<=0).groupby(tourist_accommodation_reviews['Hotel/Restaurant name']).sum()"
   ]
  },
  {
   "cell_type": "code",
   "execution_count": null,
   "metadata": {
    "colab": {
     "base_uri": "https://localhost:8080/",
     "height": 1000
    },
    "executionInfo": {
     "elapsed": 29,
     "status": "ok",
     "timestamp": 1670361463319,
     "user": {
      "displayName": "Amiya Sabu",
      "userId": "12289167282087850170"
     },
     "user_tz": 0
    },
    "id": "5VxaLuqxyaPa",
    "outputId": "1e511bd2-da22-492e-ae19-65210624dad0"
   },
   "outputs": [],
   "source": [
    "percent_negative = pd.DataFrame((tourist_accommodation_reviews['compound']<=0).groupby(tourist_accommodation_reviews['Hotel/Restaurant name']).sum()\n",
    "                              /tourist_accommodation_reviews['Hotel/Restaurant name'].groupby(tourist_accommodation_reviews['Hotel/Restaurant name']).count()*100,\n",
    "                               columns=['% negative reviews']).sort_values(by='% negative reviews')\n",
    "      \n",
    "percent_negative"
   ]
  },
  {
   "cell_type": "code",
   "execution_count": null,
   "metadata": {
    "colab": {
     "base_uri": "https://localhost:8080/",
     "height": 298
    },
    "executionInfo": {
     "elapsed": 29,
     "status": "ok",
     "timestamp": 1670361463320,
     "user": {
      "displayName": "Amiya Sabu",
      "userId": "12289167282087850170"
     },
     "user_tz": 0
    },
    "id": "jLFEO0-x03mG",
    "outputId": "b314b62e-fc0d-43ef-82bb-a7c5a48f93a3"
   },
   "outputs": [],
   "source": [
    "sns.barplot(data=percent_negative, x='% negative reviews', y=percent_negative.index, color='c')"
   ]
  },
  {
   "cell_type": "code",
   "execution_count": null,
   "metadata": {
    "colab": {
     "base_uri": "https://localhost:8080/",
     "height": 206
    },
    "executionInfo": {
     "elapsed": 23,
     "status": "ok",
     "timestamp": 1670361463320,
     "user": {
      "displayName": "Amiya Sabu",
      "userId": "12289167282087850170"
     },
     "user_tz": 0
    },
    "id": "ujHzkxol5yjM",
    "outputId": "49df3bb4-78fe-49b2-88e2-9e0fdf4d9491"
   },
   "outputs": [],
   "source": [
    "from nltk.corpus.reader import reviews\n",
    "tourist_accommodation_reviews_positive_subset=tourist_accommodation_reviews.loc[(tourist_accommodation_reviews['Hotel/Restaurant name']=='Buffalo Steak House - Kata Plaza')\n",
    "                                                                          & (tourist_accommodation_reviews['compound']>0),:]\n",
    "tourist_accommodation_reviews_negative_subset=tourist_accommodation_reviews.loc[(tourist_accommodation_reviews['Hotel/Restaurant name']=='Buffalo Steak House - Kata Plaza')\n",
    "                                                                          & (tourist_accommodation_reviews['compound']<=0),:]\n",
    "                                                            \n",
    "tourist_accommodation_reviews_positive_subset.head()"
   ]
  },
  {
   "cell_type": "code",
   "execution_count": null,
   "metadata": {
    "colab": {
     "base_uri": "https://localhost:8080/",
     "height": 366
    },
    "executionInfo": {
     "elapsed": 1164,
     "status": "ok",
     "timestamp": 1670361464463,
     "user": {
      "displayName": "Amiya Sabu",
      "userId": "12289167282087850170"
     },
     "user_tz": 0
    },
    "id": "dbxQstNFRkg9",
    "outputId": "d3db44fe-c881-48aa-822d-390e6e4c2a28"
   },
   "outputs": [],
   "source": [
    "import wordcloud\n",
    "neg_tokens=[word for review in tourist_accommodation_reviews_negative_subset['Review_Text'] for word in review]\n",
    "\n",
    "wordcloud = WordCloud(background_color='white').generate_from_text(\n",
    "    ' '.join(neg_tokens))\n",
    "\n",
    "plt.figure(figsize=(12,12))\n",
    "plt.imshow(wordcloud, interpolation='bilinear')\n",
    "plt.axis(\"off\")\n",
    "plt.show()"
   ]
  },
  {
   "cell_type": "code",
   "execution_count": null,
   "metadata": {
    "colab": {
     "base_uri": "https://localhost:8080/",
     "height": 366
    },
    "executionInfo": {
     "elapsed": 995,
     "status": "ok",
     "timestamp": 1670361465450,
     "user": {
      "displayName": "Amiya Sabu",
      "userId": "12289167282087850170"
     },
     "user_tz": 0
    },
    "id": "DSkwIHxETUsv",
    "outputId": "a7e769eb-69e5-4810-cc7a-f62285ac6943"
   },
   "outputs": [],
   "source": [
    "pos_tokens=[word for review in tourist_accommodation_reviews_positive_subset['Review_Text'] for word in review]\n",
    "\n",
    "wordcloud = WordCloud(background_color='white').generate_from_text(\n",
    "    ' '.join(neg_tokens))\n",
    "\n",
    "plt.figure(figsize=(12,12))\n",
    "plt.imshow(wordcloud, interpolation='bilinear')\n",
    "plt.axis(\"off\")\n",
    "plt.show()"
   ]
  },
  {
   "cell_type": "code",
   "execution_count": null,
   "metadata": {
    "colab": {
     "base_uri": "https://localhost:8080/"
    },
    "executionInfo": {
     "elapsed": 34,
     "status": "ok",
     "timestamp": 1670361465451,
     "user": {
      "displayName": "Amiya Sabu",
      "userId": "12289167282087850170"
     },
     "user_tz": 0
    },
    "id": "UoFWzAWyTn5e",
    "outputId": "e5e98915-3760-4778-c574-a967d3232934"
   },
   "outputs": [],
   "source": [
    "from nltk.probability import FreqDist\n",
    "pos_freqdist = FreqDist(pos_tokens)\n",
    "pos_freqdist.tabulate(10)"
   ]
  },
  {
   "cell_type": "code",
   "execution_count": null,
   "metadata": {
    "colab": {
     "base_uri": "https://localhost:8080/"
    },
    "executionInfo": {
     "elapsed": 32,
     "status": "ok",
     "timestamp": 1670361465452,
     "user": {
      "displayName": "Amiya Sabu",
      "userId": "12289167282087850170"
     },
     "user_tz": 0
    },
    "id": "XyndF26WUF4Q",
    "outputId": "7edbd887-0f4f-42bd-f106-fb4ac669f317"
   },
   "outputs": [],
   "source": [
    "from nltk.probability import FreqDist\n",
    "neg_freqdist = FreqDist(neg_tokens)\n",
    "neg_freqdist.tabulate(10)"
   ]
  },
  {
   "cell_type": "code",
   "execution_count": null,
   "metadata": {
    "colab": {
     "base_uri": "https://localhost:8080/",
     "height": 351
    },
    "executionInfo": {
     "elapsed": 29,
     "status": "ok",
     "timestamp": 1670361465452,
     "user": {
      "displayName": "Amiya Sabu",
      "userId": "12289167282087850170"
     },
     "user_tz": 0
    },
    "id": "huXqZzmMURLA",
    "outputId": "e42b9479-cecd-4eb8-da98-dd0110181fa3"
   },
   "outputs": [],
   "source": [
    "pos_freqdist.plot(30)"
   ]
  },
  {
   "cell_type": "code",
   "execution_count": null,
   "metadata": {
    "colab": {
     "base_uri": "https://localhost:8080/",
     "height": 340
    },
    "executionInfo": {
     "elapsed": 28,
     "status": "ok",
     "timestamp": 1670361465452,
     "user": {
      "displayName": "Amiya Sabu",
      "userId": "12289167282087850170"
     },
     "user_tz": 0
    },
    "id": "LwjnujByUZpS",
    "outputId": "8989e816-eaf8-4f9b-94a7-8a809de3a66a"
   },
   "outputs": [],
   "source": [
    "neg_freqdist.plot(30)"
   ]
  }
 ],
 "metadata": {
  "colab": {
   "authorship_tag": "ABX9TyMtDZkJPqPq7ru2RPR/BuZ/",
   "provenance": []
  },
  "kernelspec": {
   "display_name": "Python 3 (ipykernel)",
   "language": "python",
   "name": "python3"
  },
  "language_info": {
   "codemirror_mode": {
    "name": "ipython",
    "version": 3
   },
   "file_extension": ".py",
   "mimetype": "text/x-python",
   "name": "python",
   "nbconvert_exporter": "python",
   "pygments_lexer": "ipython3",
   "version": "3.9.12"
  }
 },
 "nbformat": 4,
 "nbformat_minor": 1
}
